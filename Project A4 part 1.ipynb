{
 "cells": [
  {
   "cell_type": "code",
   "execution_count": 5,
   "id": "ce817fdc",
   "metadata": {},
   "outputs": [],
   "source": [
    "import pandas as pd\n",
    "\n",
    "# Load the dataset\n",
    "file_path = \"C:/Users/Dell/OneDrive/Desktop/AIT580 MAIN/Project Assignments/Project assignment 4/Electric_Vehicle_Population_Data.csv\"\n",
    "data = pd.read_csv(file_path)\n",
    "\n",
    "\n"
   ]
  },
  {
   "cell_type": "code",
   "execution_count": 6,
   "id": "d07626a4",
   "metadata": {},
   "outputs": [],
   "source": [
    "#Fill missing values in 'County', 'City', and 'Electric Utility' with 'Unknown'\n",
    "data[['County', 'City', 'Electric Utility']] = data[['County', 'City', 'Electric Utility']].fillna('Unknown')"
   ]
  },
  {
   "cell_type": "code",
   "execution_count": 7,
   "id": "1fcd9f5d",
   "metadata": {},
   "outputs": [],
   "source": [
    "# Drop rows where 'Postal Code' is missing\n",
    "data = data.dropna(subset=['Postal Code'])"
   ]
  },
  {
   "cell_type": "code",
   "execution_count": 8,
   "id": "3f6f6ddf",
   "metadata": {},
   "outputs": [],
   "source": [
    "#Fill missing 'Legislative District' with a default value, e.g., 0\n",
    "data['Legislative District'] = data['Legislative District'].fillna(0)"
   ]
  },
  {
   "cell_type": "code",
   "execution_count": 9,
   "id": "15d6a002",
   "metadata": {},
   "outputs": [],
   "source": [
    "# 2. Data Type Conversion\n",
    "# Convert 'Postal Code' to string\n",
    "data['Postal Code'] = data['Postal Code'].astype(str).str.replace('.0', '', regex=False)"
   ]
  },
  {
   "cell_type": "code",
   "execution_count": null,
   "id": "8ba834ab",
   "metadata": {},
   "outputs": [],
   "source": []
  }
 ],
 "metadata": {
  "kernelspec": {
   "display_name": "Python 3 (ipykernel)",
   "language": "python",
   "name": "python3"
  },
  "language_info": {
   "codemirror_mode": {
    "name": "ipython",
    "version": 3
   },
   "file_extension": ".py",
   "mimetype": "text/x-python",
   "name": "python",
   "nbconvert_exporter": "python",
   "pygments_lexer": "ipython3",
   "version": "3.9.7"
  }
 },
 "nbformat": 4,
 "nbformat_minor": 5
}
