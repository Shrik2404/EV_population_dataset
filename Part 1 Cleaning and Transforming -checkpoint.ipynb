{
 "cells": [
  {
   "cell_type": "code",
   "execution_count": 2,
   "id": "b4f3c7e7",
   "metadata": {},
   "outputs": [
    {
     "name": "stdout",
     "output_type": "stream",
     "text": [
      "VIN (1-10)                                           0\n",
      "County                                               0\n",
      "City                                                 0\n",
      "State                                                0\n",
      "Postal Code                                          0\n",
      "Model Year                                           0\n",
      "Make                                                 0\n",
      "Model                                                0\n",
      "Electric Vehicle Type                                0\n",
      "Clean Alternative Fuel Vehicle (CAFV) Eligibility    0\n",
      "Electric Range                                       0\n",
      "Base MSRP                                            0\n",
      "Legislative District                                 0\n",
      "DOL Vehicle ID                                       0\n",
      "Vehicle Location                                     0\n",
      "Electric Utility                                     0\n",
      "2020 Census Tract                                    0\n",
      "dtype: int64\n"
     ]
    }
   ],
   "source": [
    "import pandas as pd\n",
    "\n",
    "# Loading the dataset\n",
    "df = pd.read_csv(\"D:/ashrikha/OneDrive - George Mason University - O365 Production/Desktop/AIT580 MAIN/Project Assignments/Project assignment 4/Electric_Vehicle_Population_Data.csv\")\n",
    "# For 'County', 'City', 'Postal Code', 'Electric Utility', and '2020 Census Tract', filling missing values with the mode\n",
    "for column in ['County', 'City', 'Postal Code', 'Electric Utility', '2020 Census Tract']:\n",
    "    df[column].fillna(df[column].mode()[0], inplace=True)\n",
    "\n",
    "# For 'Legislative District', filling missing values with the mode\n",
    "df['Legislative District'].fillna(df['Legislative District'].mode()[0], inplace=True)\n",
    "\n",
    "# For 'Vehicle Location', filling missing values with the mode\n",
    "df['Vehicle Location'].fillna(df['Vehicle Location'].mode()[0], inplace=True)\n",
    "\n",
    "# this code checks if the missing values have been handled or not\n",
    "print(df.isnull().sum())\n",
    "\n",
    "# Save the cleaned dataset\n",
    "df.to_csv('cleaned_dataset.csv', index=False)  # The cleaned dataset is saved as 'cleaned_dataset.csv'\n"
   ]
  },
  {
   "cell_type": "markdown",
   "id": "1d4ecb80",
   "metadata": {},
   "source": [
    "# Datatype Conversion"
   ]
  },
  {
   "cell_type": "code",
   "execution_count": 3,
   "id": "b78c3ed3",
   "metadata": {},
   "outputs": [
    {
     "name": "stdout",
     "output_type": "stream",
     "text": [
      "Postal Code          object\n",
      "2020 Census Tract    object\n",
      "dtype: object\n"
     ]
    }
   ],
   "source": [
    "# Converting 'Postal Code' and '2020 Census Tract' to strings \n",
    "df['Postal Code'] = df['Postal Code'].astype(str)\n",
    "df['2020 Census Tract'] = df['2020 Census Tract'].astype(str)\n",
    "\n",
    "# Removing any trailing \".0\" from these columns as they are now strings\n",
    "df['Postal Code'] = df['Postal Code'].str.rstrip('.0')\n",
    "df['2020 Census Tract'] = df['2020 Census Tract'].str.rstrip('.0')\n",
    "\n",
    "# Check the updated data types are updates or not\n",
    "print(df[['Postal Code', '2020 Census Tract']].dtypes)\n"
   ]
  },
  {
   "cell_type": "markdown",
   "id": "a2c1948b",
   "metadata": {},
   "source": [
    "# Removing Outliers and Columns"
   ]
  },
  {
   "cell_type": "code",
   "execution_count": 7,
   "id": "c2f8a951",
   "metadata": {},
   "outputs": [
    {
     "name": "stdout",
     "output_type": "stream",
     "text": [
      "   VIN (1-10)    County      City State Postal Code  Model Year      Make  \\\n",
      "1  1C4RJYB61N      King   Bothell    WA       98011        2022      JEEP   \n",
      "2  1C4RJYD61P    Yakima    Yakima    WA       98908        2023      JEEP   \n",
      "3  5YJ3E1EA7J      King  Kirkland    WA       98034        2018     TESLA   \n",
      "4  WBY7Z8C5XJ  Thurston   Olympia    WA       98501        2018       BMW   \n",
      "6  2C4RC1N77H      King      Kent    WA       98042        2017  CHRYSLER   \n",
      "\n",
      "            Model                   Electric Vehicle Type  \\\n",
      "1  GRAND CHEROKEE  Plug-in Hybrid Electric Vehicle (PHEV)   \n",
      "2  GRAND CHEROKEE  Plug-in Hybrid Electric Vehicle (PHEV)   \n",
      "3         MODEL 3          Battery Electric Vehicle (BEV)   \n",
      "4              I3  Plug-in Hybrid Electric Vehicle (PHEV)   \n",
      "6        PACIFICA  Plug-in Hybrid Electric Vehicle (PHEV)   \n",
      "\n",
      "  Clean Alternative Fuel Vehicle (CAFV) Eligibility  Electric Range  \\\n",
      "1             Not eligible due to low battery range              25   \n",
      "2             Not eligible due to low battery range              25   \n",
      "3           Clean Alternative Fuel Vehicle Eligible             215   \n",
      "4           Clean Alternative Fuel Vehicle Eligible              97   \n",
      "6           Clean Alternative Fuel Vehicle Eligible              33   \n",
      "\n",
      "   Legislative District  DOL Vehicle ID                 Vehicle Location  \\\n",
      "1                   1.0       233928502     POINT (-122.20578 47.762405)   \n",
      "2                  14.0       229675939  POINT (-120.6027202 46.5965625)   \n",
      "3                  45.0       104714466     POINT (-122.209285 47.71124)   \n",
      "4                  22.0       185498386     POINT (-122.89692 47.043535)   \n",
      "6                  47.0         1815593     POINT (-122.111625 47.36078)   \n",
      "\n",
      "                                Electric Utility 2020 Census Tract  \n",
      "1  PUGET SOUND ENERGY INC||CITY OF TACOMA - (WA)       53033021804  \n",
      "2                                     PACIFICORP         530770029  \n",
      "3  PUGET SOUND ENERGY INC||CITY OF TACOMA - (WA)       53033021903  \n",
      "4                         PUGET SOUND ENERGY INC         530670107  \n",
      "6  PUGET SOUND ENERGY INC||CITY OF TACOMA - (WA)       53033031707  \n"
     ]
    }
   ],
   "source": [
    "# Defining the low and high percentiles\n",
    "low_percentile = 0.05\n",
    "high_percentile = 0.95\n",
    "\n",
    "# Remove outliers in 'Electric Range'\n",
    "df = df[df['Electric Range'].between(df['Electric Range'].quantile(low_percentile), df['Electric Range'].quantile(high_percentile))]\n",
    "\n",
    "# Remove outliers in 'Base MSRP'\n",
    "df = df[df['Base MSRP'].between(df['Base MSRP'].quantile(low_percentile), df['Base MSRP'].quantile(high_percentile))]\n",
    "\n",
    "# Removing the 'Base MSRP' column from the dataframe\n",
    "df.drop(columns=['Base MSRP'], inplace=True)\n",
    "\n",
    "# Displaying the first few rows of the dataframe to confirm the column is removed\n",
    "print(df.head())\n",
    "\n",
    "#I am removing the Base MSRP column as it had only few acutal values."
   ]
  },
  {
   "cell_type": "markdown",
   "id": "3515549d",
   "metadata": {},
   "source": [
    "# Ensuring the formatting of the columns "
   ]
  },
  {
   "cell_type": "code",
   "execution_count": 8,
   "id": "c6d897d0",
   "metadata": {},
   "outputs": [
    {
     "name": "stdout",
     "output_type": "stream",
     "text": [
      "   VIN (1-10)    County      City State Postal Code  Model Year      Make  \\\n",
      "1  1c4rjyb61n      king   bothell    wa       98011        2022      jeep   \n",
      "2  1c4rjyd61p    yakima    yakima    wa       98908        2023      jeep   \n",
      "3  5yj3e1ea7j      king  kirkland    wa       98034        2018     tesla   \n",
      "4  wby7z8c5xj  thurston   olympia    wa       98501        2018       bmw   \n",
      "6  2c4rc1n77h      king      kent    wa       98042        2017  chrysler   \n",
      "\n",
      "            Model                   Electric Vehicle Type  \\\n",
      "1  grand cherokee  plug-in hybrid electric vehicle (phev)   \n",
      "2  grand cherokee  plug-in hybrid electric vehicle (phev)   \n",
      "3         model 3          battery electric vehicle (bev)   \n",
      "4              i3  plug-in hybrid electric vehicle (phev)   \n",
      "6        pacifica  plug-in hybrid electric vehicle (phev)   \n",
      "\n",
      "  Clean Alternative Fuel Vehicle (CAFV) Eligibility  Electric Range  \\\n",
      "1             not eligible due to low battery range              25   \n",
      "2             not eligible due to low battery range              25   \n",
      "3           clean alternative fuel vehicle eligible             215   \n",
      "4           clean alternative fuel vehicle eligible              97   \n",
      "6           clean alternative fuel vehicle eligible              33   \n",
      "\n",
      "   Legislative District  DOL Vehicle ID                 Vehicle Location  \\\n",
      "1                   1.0       233928502     point (-122.20578 47.762405)   \n",
      "2                  14.0       229675939  point (-120.6027202 46.5965625)   \n",
      "3                  45.0       104714466     point (-122.209285 47.71124)   \n",
      "4                  22.0       185498386     point (-122.89692 47.043535)   \n",
      "6                  47.0         1815593     point (-122.111625 47.36078)   \n",
      "\n",
      "                                Electric Utility 2020 Census Tract  \n",
      "1  puget sound energy inc||city of tacoma - (wa)       53033021804  \n",
      "2                                     pacificorp         530770029  \n",
      "3  puget sound energy inc||city of tacoma - (wa)       53033021903  \n",
      "4                         puget sound energy inc         530670107  \n",
      "6  puget sound energy inc||city of tacoma - (wa)       53033031707  \n"
     ]
    }
   ],
   "source": [
    "# Ensuring consistency in string columns\n",
    "# This typically involves converting text to a consistent case (e.g., all lowercase).\n",
    "string_columns = df.select_dtypes(include=['object']).columns\n",
    "\n",
    "# Converting all string columns to lowercase and stripping leading/trailing whitespace\n",
    "for column in string_columns:\n",
    "    df[column] = df[column].str.lower().str.strip()\n",
    "\n",
    "# Displaying the first few rows to confirm the changes\n",
    "print(df.head())\n"
   ]
  },
  {
   "cell_type": "code",
   "execution_count": 18,
   "id": "15236b96",
   "metadata": {},
   "outputs": [
    {
     "name": "stdout",
     "output_type": "stream",
     "text": [
      "   VIN (1-10)    County      City State Postal Code  Model Year      Make  \\\n",
      "1  1c4rjyb61n      king   bothell    wa       98011        2022      jeep   \n",
      "2  1c4rjyd61p    yakima    yakima    wa       98908        2023      jeep   \n",
      "3  5yj3e1ea7j      king  kirkland    wa       98034        2018     tesla   \n",
      "4  wby7z8c5xj  thurston   olympia    wa       98501        2018       bmw   \n",
      "6  2c4rc1n77h      king      kent    wa       98042        2017  chrysler   \n",
      "\n",
      "            Model                   Electric Vehicle Type  \\\n",
      "1  grand cherokee  plug-in hybrid electric vehicle (phev)   \n",
      "2  grand cherokee  plug-in hybrid electric vehicle (phev)   \n",
      "3         model 3          battery electric vehicle (bev)   \n",
      "4              i3  plug-in hybrid electric vehicle (phev)   \n",
      "6        pacifica  plug-in hybrid electric vehicle (phev)   \n",
      "\n",
      "  Clean Alternative Fuel Vehicle (CAFV) Eligibility Electric Range  \\\n",
      "1             not eligible due to low battery range             25   \n",
      "2             not eligible due to low battery range             25   \n",
      "3           clean alternative fuel vehicle eligible            215   \n",
      "4           clean alternative fuel vehicle eligible             97   \n",
      "6           clean alternative fuel vehicle eligible             33   \n",
      "\n",
      "   Legislative District  DOL Vehicle ID                 Vehicle Location  \\\n",
      "1                   1.0       233928502     point (-122.20578 47.762405)   \n",
      "2                  14.0       229675939  point (-120.6027202 46.5965625)   \n",
      "3                  45.0       104714466     point (-122.209285 47.71124)   \n",
      "4                  22.0       185498386     point (-122.89692 47.043535)   \n",
      "6                  47.0         1815593     point (-122.111625 47.36078)   \n",
      "\n",
      "                                Electric Utility 2020 Census Tract  \n",
      "1  puget sound energy inc||city of tacoma - (wa)       53033021804  \n",
      "2                                     pacificorp         530770029  \n",
      "3  puget sound energy inc||city of tacoma - (wa)       53033021903  \n",
      "4                         puget sound energy inc         530670107  \n",
      "6  puget sound energy inc||city of tacoma - (wa)       53033031707  \n"
     ]
    }
   ],
   "source": [
    "# Convert the eligibility column to lowercase for consistent comparison\n",
    "df['Clean Alternative Fuel Vehicle (CAFV) Eligibility'] = df['Clean Alternative Fuel Vehicle (CAFV) Eligibility'].str.lower()\n",
    "\n",
    "# Replace 0 with NaN in 'Electric Range' based on the condition\n",
    "df.loc[(df['Electric Range'] == 0) & (df['Clean Alternative Fuel Vehicle (CAFV) Eligibility'] == 'clean alternative fuel vehicle eligible'), 'Electric Range'] = pd.NA\n",
    "\n",
    "# Checking the first few rows to verify the changes\n",
    "print(df.head())\n"
   ]
  },
  {
   "cell_type": "code",
   "execution_count": 20,
   "id": "0ec755b1",
   "metadata": {},
   "outputs": [],
   "source": [
    "df.to_csv('Cleaned_Electric_Vehicle_Data_1.csv', index=False)\n",
    "#saving the cleaned file"
   ]
  },
  {
   "cell_type": "code",
   "execution_count": null,
   "id": "131ebd36",
   "metadata": {},
   "outputs": [],
   "source": []
  }
 ],
 "metadata": {
  "kernelspec": {
   "display_name": "Python 3 (ipykernel)",
   "language": "python",
   "name": "python3"
  },
  "language_info": {
   "codemirror_mode": {
    "name": "ipython",
    "version": 3
   },
   "file_extension": ".py",
   "mimetype": "text/x-python",
   "name": "python",
   "nbconvert_exporter": "python",
   "pygments_lexer": "ipython3",
   "version": "3.9.7"
  }
 },
 "nbformat": 4,
 "nbformat_minor": 5
}
